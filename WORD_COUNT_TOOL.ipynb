{
  "nbformat": 4,
  "nbformat_minor": 0,
  "metadata": {
    "colab": {
      "provenance": [],
      "authorship_tag": "ABX9TyMibXd474/pESuY8JC/IBge",
      "include_colab_link": true
    },
    "kernelspec": {
      "name": "python3",
      "display_name": "Python 3"
    },
    "language_info": {
      "name": "python"
    }
  },
  "cells": [
    {
      "cell_type": "markdown",
      "metadata": {
        "id": "view-in-github",
        "colab_type": "text"
      },
      "source": [
        "<a href=\"https://colab.research.google.com/github/mucherlauma/InternPedia/blob/main/WORD_COUNT_TOOL.ipynb\" target=\"_parent\"><img src=\"https://colab.research.google.com/assets/colab-badge.svg\" alt=\"Open In Colab\"/></a>"
      ]
    },
    {
      "cell_type": "code",
      "execution_count": 3,
      "metadata": {
        "colab": {
          "base_uri": "https://localhost:8080/"
        },
        "id": "WhcnlPT-ZOeL",
        "outputId": "d7cd5df0-72e7-4e8b-a953-b38deba3b3b2"
      },
      "outputs": [
        {
          "output_type": "stream",
          "name": "stdout",
          "text": [
            "Welcome to the Word Count Tool!\n",
            "Enter '1' to input text, '2' to load text from a file, or 'q' to quit: 1\n",
            "Enter the text: hello how are you\n",
            "Word count: 4\n",
            "Enter '1' to input text, '2' to load text from a file, or 'q' to quit: 2\n",
            "Enter the file name: sample.txt\n",
            "File not found. Please try again.\n",
            "Enter '1' to input text, '2' to load text from a file, or 'q' to quit: q\n",
            "Thank you for using the Word Count Tool. Goodbye!\n"
          ]
        }
      ],
      "source": [
        "import string\n",
        "\n",
        "def count_words(text):\n",
        "    \"\"\"\n",
        "    Count the number of words in the given text.\n",
        "    \"\"\"\n",
        "    # Remove punctuation and split the text into words\n",
        "    translator = str.maketrans('', '', string.punctuation)\n",
        "    words = text.translate(translator).split()\n",
        "\n",
        "    # Count the number of words\n",
        "    word_count = len(words)\n",
        "    return word_count\n",
        "\n",
        "def main():\n",
        "    print(\"Welcome to the Word Count Tool!\")\n",
        "    while True:\n",
        "        user_input = input(\"Enter '1' to input text, '2' to load text from a file, or 'q' to quit: \")\n",
        "\n",
        "        if user_input == '1':\n",
        "            text = input(\"Enter the text: \")\n",
        "            print(\"Word count:\", count_words(text))\n",
        "        elif user_input == '2':\n",
        "            filename = input(\"Enter the file name: \")\n",
        "            try:\n",
        "                with open(filename, 'r') as file:\n",
        "                    text = file.read()\n",
        "                print(\"Word count:\", count_words(text))\n",
        "            except FileNotFoundError:\n",
        "                print(\"File not found. Please try again.\")\n",
        "        elif user_input.lower() == 'q':\n",
        "            print(\"Thank you for using the Word Count Tool. Goodbye!\")\n",
        "            break\n",
        "        else:\n",
        "            print(\"Invalid input. Please try again.\")\n",
        "\n",
        "if __name__ == \"__main__\":\n",
        "    main()"
      ]
    }
  ]
}